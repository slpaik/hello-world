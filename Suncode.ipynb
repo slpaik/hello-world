{
  "nbformat": 4,
  "nbformat_minor": 0,
  "metadata": {
    "colab": {
      "name": "Suncode.ipynb",
      "provenance": [],
      "collapsed_sections": [],
      "mount_file_id": "1hVipP5-WLxxsPCibkbEvypMT8fGXDM_Y",
      "authorship_tag": "ABX9TyPsSKkwTyEAffznVmxgur48",
      "include_colab_link": true
    },
    "kernelspec": {
      "name": "python3",
      "display_name": "Python 3"
    }
  },
  "cells": [
    {
      "cell_type": "markdown",
      "metadata": {
        "id": "view-in-github",
        "colab_type": "text"
      },
      "source": [
        "<a href=\"https://colab.research.google.com/github/slpaik/hello-world/blob/master/Suncode.ipynb\" target=\"_parent\"><img src=\"https://colab.research.google.com/assets/colab-badge.svg\" alt=\"Open In Colab\"/></a>"
      ]
    },
    {
      "cell_type": "code",
      "metadata": {
        "id": "rE5P3hx09hqU",
        "outputId": "3056e185-bc94-49e0-ab5e-48af08158d27",
        "colab": {
          "base_uri": "https://localhost:8080/"
        }
      },
      "source": [
        "#\n",
        "# Calculate pi to x decimal points\n",
        "#\n",
        "length = int(input('Please enter a number between 1 and 50 to calculate decimal points of pi : '))\n",
        "if 0 < length <= 50:\n",
        "  print('Pi to {2} decimal points is {1:<4.{0}g}'.format(length+1,(22/7),length))\n",
        "else:\n",
        "  print('Number is out of range')\n",
        "#\n",
        "#\n",
        "\n",
        "\n"
      ],
      "execution_count": null,
      "outputs": [
        {
          "output_type": "stream",
          "text": [
            "Please enter a number between 1 and 50 to calculate decimal points of pi : 49\n",
            "Pi to 49 decimal points is 3.1428571428571427937015414499910548329353332519531\n"
          ],
          "name": "stdout"
        }
      ]
    },
    {
      "cell_type": "code",
      "metadata": {
        "id": "9DTOXUz9laOw",
        "outputId": "73bffe8f-6f3b-4f83-cdf6-6ed93f9ce3f5",
        "colab": {
          "base_uri": "https://localhost:8080/"
        }
      },
      "source": [
        "shopping_list = [\"milk\",\n",
        "                 \"pasta\",\n",
        "                 \"eggs\",\n",
        "                 \"spam\",\n",
        "                 \"bread\",\n",
        "                 \"rice\"\n",
        "                 ]\n",
        "another_list = shopping_list\n",
        "\n",
        "print(id(shopping_list))\n",
        "print(id(another_list))\n",
        "\n",
        "shopping_list += [\"cookies\"]\n",
        "print(shopping_list)\n",
        "print(id(shopping_list))\n",
        "a = b = c = d = e = f = another_list\n",
        "b.append(\"cream\")\n",
        "print(a)\n",
        "print(b)\n"
      ],
      "execution_count": null,
      "outputs": [
        {
          "output_type": "stream",
          "text": [
            "140304270241160\n",
            "140304270241160\n",
            "['milk', 'pasta', 'eggs', 'spam', 'bread', 'rice', 'cookies']\n",
            "140304270241160\n",
            "['milk', 'pasta', 'eggs', 'spam', 'bread', 'rice', 'cookies', 'cream']\n",
            "['milk', 'pasta', 'eggs', 'spam', 'bread', 'rice', 'cookies', 'cream']\n"
          ],
          "name": "stdout"
        }
      ]
    }
  ]
}